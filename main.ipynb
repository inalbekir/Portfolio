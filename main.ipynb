{
 "cells": [
  {
   "cell_type": "markdown",
   "id": "3f942a0a-3a93-49da-b9db-d89220f8ddec",
   "metadata": {},
   "source": [
    "# Verkeersdata Analyse Porfolio"
   ]
  },
  {
   "cell_type": "code",
   "execution_count": 1,
   "id": "cd7afc00-9954-4aa7-908a-a35fad66273c",
   "metadata": {},
   "outputs": [],
   "source": [
    "# Libraries inladen\n",
    "import pandas as pd\n",
    "pd.set_option('display.max_columns', None) # Als er veel kolommen zijn, wil ik ze allemaal zien bij printen\n",
    "import matplotlib.pyplot as plt\n",
    "import requests"
   ]
  },
  {
   "cell_type": "code",
   "execution_count": null,
   "id": "4f66c7d2-3d44-4f69-9468-5a5a792d55c2",
   "metadata": {},
   "outputs": [],
   "source": [
    "# Datasets inladen\n",
    "accidents = pd.read_csv(\"datasets/accident_data.csv\")\n",
    "roads = pd.read_csv(\"datasets/road_data.csv\")\n",
    "weather = pd.read_csv(\"datasets/weather_data.csv\")"
   ]
  },
  {
   "cell_type": "markdown",
   "id": "4f5d04d3-bfea-47ff-8674-b705c3f499f3",
   "metadata": {},
   "source": [
    "## Datasets mergen aan elkaar"
   ]
  },
  {
   "cell_type": "markdown",
   "id": "00f53310-2f60-4cc9-875b-357f4d17559f",
   "metadata": {},
   "source": [
    "Eerst een kijke nemen op de datasets:"
   ]
  },
  {
   "cell_type": "code",
   "execution_count": null,
   "id": "210d4ece-fe67-4baf-9aaf-551794f5bfde",
   "metadata": {
    "scrolled": true
   },
   "outputs": [],
   "source": [
    "# Overzicht Data\n",
    "def overzicht(df, name):\n",
    "    print(f\"\\n {name} \\n\")\n",
    "    print(\"-------------------------\")\n",
    "    print(df.head())\n",
    "\n",
    "overzicht(accidents, \"Accident Data\")\n",
    "overzicht(weather, \"Weather Data\")\n",
    "overzicht(roads, \"Road Data\")"
   ]
  },
  {
   "cell_type": "markdown",
   "id": "15e8bece-5de9-455b-ab99-5e523b1c11d2",
   "metadata": {},
   "source": [
    "Accidents en weather data mergen"
   ]
  },
  {
   "cell_type": "code",
   "execution_count": null,
   "id": "2b43cdad-7fd8-4035-bdef-6467985b225d",
   "metadata": {},
   "outputs": [],
   "source": [
    "# Start_Time kolom komt 2 keer voor (bij accidents en weather).\n",
    "weather.drop(columns=[\"Start_Time\"], inplace=True)\n",
    "\n",
    "# Mergen op basis van het aantal rijen\n",
    "merged = pd.concat([accidents, weather], axis=1)\n",
    "\n",
    "#Controleren\n",
    "merged.head()"
   ]
  },
  {
   "cell_type": "markdown",
   "id": "82a19bac-9d2f-4f4e-a24c-76f52785f6a1",
   "metadata": {},
   "source": [
    "Accidents en road data mergen"
   ]
  },
  {
   "cell_type": "code",
   "execution_count": null,
   "id": "9f79f79c-723a-4e0a-b6ca-ff2ddd407512",
   "metadata": {},
   "outputs": [],
   "source": [
    "# Omdat ik al een merged data heb zal ik die data gebruiken\n",
    "df = pd.merge(merged, roads, on='ID', how='left')"
   ]
  },
  {
   "cell_type": "markdown",
   "id": "5f217ade-d464-44de-9b99-4ca608bcc0fc",
   "metadata": {},
   "source": [
    "#### Kijken of alles goed is gegaan"
   ]
  },
  {
   "cell_type": "code",
   "execution_count": null,
   "id": "8b2c38f9-6a85-43b7-be04-065cc654b0f6",
   "metadata": {},
   "outputs": [],
   "source": [
    "print(accidents.shape[0])\n",
    "print(weather.shape[0])\n",
    "print(roads.shape[0])\n",
    "print(df.shape[0])"
   ]
  },
  {
   "cell_type": "markdown",
   "id": "f80fcaf3-4680-4108-930e-aea3ec873500",
   "metadata": {},
   "source": [
    "## Onvolledige data verwijderen of aanvullen"
   ]
  },
  {
   "cell_type": "code",
   "execution_count": null,
   "id": "66f1e19a-157a-48ff-a760-f63046be6305",
   "metadata": {
    "scrolled": true
   },
   "outputs": [],
   "source": [
    "# Overzicht Data\n",
    "print(df)"
   ]
  },
  {
   "cell_type": "code",
   "execution_count": null,
   "id": "fa5c2c86-3b2f-44ef-80ac-9563276c8251",
   "metadata": {
    "scrolled": true
   },
   "outputs": [],
   "source": [
    "# Percentage van missende waarden per kolom\n",
    "print((df.isnull().sum() / len(df) * 100))"
   ]
  },
  {
   "cell_type": "markdown",
   "id": "7ae3e6f7-0814-48b2-b214-bd195ccca0a4",
   "metadata": {},
   "source": [
    "In de kolommen End_lat en End_lng zitten ook heel veel missende waardes. Aangezien ik al de coordinaten van de incident locaties heb (Start_Lat - Start_Lng) heb ik deze twee kolommen niet nodig."
   ]
  },
  {
   "cell_type": "code",
   "execution_count": null,
   "id": "e26f5a0d-63e1-4074-ac57-e1ee351a5f84",
   "metadata": {},
   "outputs": [],
   "source": [
    "# End_Lat en End_Lng kolommen verwijderen met  veel missende waardes (niet nodig)\n",
    "df.drop(['End_Lat', 'End_Lng'], axis=1, inplace=True)"
   ]
  },
  {
   "cell_type": "markdown",
   "id": "b1f0383c-3aa4-4f96-ac60-c812d6d03df6",
   "metadata": {},
   "source": [
    "In de description en city kolommen zitten heel weininig nan waardes, hierbij kunnen we heel makkelijk deze rijen veranderen, want het zal geen effect hebben op de analyse."
   ]
  },
  {
   "cell_type": "code",
   "execution_count": null,
   "id": "2e3e9517-775d-4c9e-b454-3800ccd2682a",
   "metadata": {},
   "outputs": [],
   "source": [
    "# Rijen met nan waardes verwijderen\n",
    "df.dropna(subset=[\"Description\", \"City\", \"Zipcode\"], inplace=True)"
   ]
  },
  {
   "cell_type": "markdown",
   "id": "b1ab756c-1ea0-4ea1-b166-d34ecfec3468",
   "metadata": {},
   "source": [
    "In de kolom 'Precipitation(in)' zitten veel missende waarden. Aangezien waarschijnlijk in de meeste geval niet regenen of sneeuwen betekent dat er geen regen of sneeuw is gevallen, besloot ik om de missende waarden met '0.0' te invullen. Zo heb ik geen dataverlies en kan werken met deze kolom."
   ]
  },
  {
   "cell_type": "code",
   "execution_count": null,
   "id": "156f3aa4-a85e-4b92-ac83-33142172d6c7",
   "metadata": {},
   "outputs": [],
   "source": [
    "# None waardes veranderen met 0\n",
    "df.fillna({\"Precipitation(in)\": 0.0}, inplace=True)"
   ]
  },
  {
   "cell_type": "markdown",
   "id": "71aa8dec-ec64-4972-8a76-4ff52681f016",
   "metadata": {},
   "source": [
    "Als je kijkt naar de Wind_Chill(F) kolom, zie je dat het meestaal heel dichtbij of soms helemaal hetzelfde is met de Temperature(F) kolom. Dit betekent dat de NaN waardes gewoon met de waardes van Temperature(F) opgevuld kan worden. Dit geldt ook voor de kolom Temperature(F)."
   ]
  },
  {
   "cell_type": "code",
   "execution_count": null,
   "id": "95308d1b-26f0-44d3-a3ed-62b8296bf11d",
   "metadata": {},
   "outputs": [],
   "source": [
    "df[[\"Wind_Chill(F)\",\"Temperature(F)\"]].head()"
   ]
  },
  {
   "cell_type": "code",
   "execution_count": null,
   "id": "070c5330-2cec-4349-9439-317515e6949f",
   "metadata": {},
   "outputs": [],
   "source": [
    "# Opvullen met dichtstbijzijnde waardes\n",
    "df.fillna({\"Wind_Chill(F)\": \"Temperature(F)\"}, inplace=True)\n",
    "df.fillna({\"Temperature(F)\": \"Wind_Chill(F)\"}, inplace=True)"
   ]
  },
  {
   "cell_type": "markdown",
   "id": "3766687c-864b-4b89-8a8c-940728317140",
   "metadata": {},
   "source": [
    "Omdat de resterende kolommen heel weinig NaN waardes bevatten, kunnen de rijen met de NaN values gelijk werwijderd kan worden. Dit heeft geen effect op de analyse en de data begrijpelijker."
   ]
  },
  {
   "cell_type": "code",
   "execution_count": null,
   "id": "9b995603-0752-4c51-ae6d-c8925cc45d7a",
   "metadata": {},
   "outputs": [],
   "source": [
    "# De rijen met weinig missende waardes verwijderen\n",
    "df.dropna(subset=[\"Humidity(%)\", \"Pressure(in)\" \n",
    "                       ,\"Visibility(mi)\", \"Wind_Direction\", \n",
    "                       \"Wind_Speed(mph)\", \"Weather_Condition\", \"Sunrise_Sunset\"], \n",
    "               inplace=True)"
   ]
  },
  {
   "cell_type": "code",
   "execution_count": null,
   "id": "cdca9c10-a840-4e8b-8946-f38745fcda1d",
   "metadata": {},
   "outputs": [],
   "source": [
    "df.isnull().sum()"
   ]
  },
  {
   "cell_type": "markdown",
   "id": "6e61cc4c-417d-49ab-aad7-889e25b674e2",
   "metadata": {},
   "source": [
    "Alle missende waardes zijn nu verwijderd."
   ]
  },
  {
   "cell_type": "markdown",
   "id": "64dbb804-9a36-4d09-8f79-277dc0700afe",
   "metadata": {},
   "source": [
    "## Onnodige Kolommen verwijderen\n",
    "Om de data overzichtelijk te houden, onnodig geheugengebruik te voorkomen en alleen met kolommen te werken die relevant zijn voor de analyse, is het handig om een paar overbodige kolommen te verwijderen."
   ]
  },
  {
   "cell_type": "code",
   "execution_count": null,
   "id": "ab42ea47-43d1-4fe7-8665-eefa79401756",
   "metadata": {},
   "outputs": [],
   "source": [
    "# Accidents kolommen\n",
    "df.drop(columns=[\n",
    "    \"Description\", \"Source\", \"Zipcode\", \"Distance(mi)\"\n",
    "]\n",
    "               , inplace=True)\n",
    "\n",
    "# Weather kolommen\n",
    "df.drop(columns=[\n",
    "    \"Wind_Chill(F)\", \"Visibility(mi)\", \"Wind_Direction\", \"Weather_Timestamp\"\t \n",
    "]\n",
    "            , inplace=True)"
   ]
  },
  {
   "cell_type": "code",
   "execution_count": null,
   "id": "64dd5fed-6fd5-4f5a-b933-867038119b2c",
   "metadata": {},
   "outputs": [],
   "source": [
    "print(df.columns)"
   ]
  },
  {
   "cell_type": "markdown",
   "id": "7b3e7ad4-1ddb-4516-af13-095bc78ed0bb",
   "metadata": {},
   "source": [
    "## Onrealistische waarden filtreren\n",
    "Uitschieters of fout waardes verwijderen."
   ]
  },
  {
   "cell_type": "code",
   "execution_count": null,
   "id": "6c7e9d52-3d91-47d8-b60f-b49275a025a7",
   "metadata": {},
   "outputs": [],
   "source": [
    "# Kijken of er foute waarden tussen zitten\n",
    "df.describe()"
   ]
  },
  {
   "cell_type": "markdown",
   "id": "14de3fe1-50e7-4fa4-bd2e-4baa07612ea7",
   "metadata": {},
   "source": [
    "#### Wind-luchtdruk (Pressure)\n",
    "Winddruk kan niet minder dan 25 of meer dan 32 zijn. Meer informatie kun je [hier](https://www.rovary.com/pages/luchtdruk) vinden. Daarom filtreer ik de waarden in Pressure kolom tussen 25 en 32 inch."
   ]
  },
  {
   "cell_type": "code",
   "execution_count": null,
   "id": "fe60e150-5509-4c46-826a-8821781aac70",
   "metadata": {},
   "outputs": [],
   "source": [
    "# Waarden filtreren tussen 25 en 32\n",
    "df = df[(df['Pressure(in)'] >= 25) & (df['Pressure(in)'] <= 32)]"
   ]
  },
  {
   "cell_type": "markdown",
   "id": "af50e478-157a-40f6-b37d-97ff35bd6385",
   "metadata": {},
   "source": [
    "#### Windsnelheid (Wind_speed)\n",
    "Volgens de [Saffir-Simpson orkaanschaal](https://www.nhc.noaa.gov/aboutsshws.php) beginnen orkanen bij windsnelheden van 74 mph. Zelfs de zwaarste orkanen (categorie 5) hebben windsnelheden van 157 mph of hoger. Dus waarden zoals 822mph zijn fysiek onmogelijk en dus fout. Om het realistisch te houden zal ik de windsnelheid filtreren tot 120 mph."
   ]
  },
  {
   "cell_type": "code",
   "execution_count": null,
   "id": "ec5f05df-a711-45e3-8f4a-ad910148affc",
   "metadata": {},
   "outputs": [],
   "source": [
    "# Windsnelheid filtreren tot 120 mph\n",
    "df = df[(df['Wind_Speed(mph)'] <= 120)]"
   ]
  },
  {
   "cell_type": "markdown",
   "id": "78efe671-88d7-4b26-b3fa-b2e396d0596c",
   "metadata": {},
   "source": [
    "#### Controleren"
   ]
  },
  {
   "cell_type": "code",
   "execution_count": null,
   "id": "1c024fd7-8811-4e43-8dbf-179c73dd54c9",
   "metadata": {},
   "outputs": [],
   "source": [
    "df.describe()"
   ]
  },
  {
   "cell_type": "markdown",
   "id": "0ccfc91a-4e8c-418b-a23b-882c6930719b",
   "metadata": {},
   "source": [
    "## Datatypes Corrigeren \n",
    "Elke kolom in de datasets moet het juiste datatype hebben, zodat verdere analyses soepel verlopen en foutmeldingen worden voorkomen."
   ]
  },
  {
   "cell_type": "markdown",
   "id": "28c1e11c-537f-46a3-b039-6dca108a889f",
   "metadata": {},
   "source": [
    "### Accidents"
   ]
  },
  {
   "cell_type": "code",
   "execution_count": null,
   "id": "3267c7ec-3b77-4888-a78b-531e3315a7d0",
   "metadata": {
    "scrolled": true
   },
   "outputs": [],
   "source": [
    "df.info()"
   ]
  },
  {
   "cell_type": "code",
   "execution_count": null,
   "id": "f783625e-e62b-4749-b5fe-7943bf9be97c",
   "metadata": {},
   "outputs": [],
   "source": [
    "# City, COuntry en State zijn ook string type kolommen\n",
    "df[['City', 'County', 'State']] = df[['City', 'County', 'State']].astype('string')\n",
    "\n",
    "# Om datatypes te veranderen, moeten de nanoseconden in deze kolommen verwijderd worden\n",
    "df['Start_Time'] = df['Start_Time'].str.extract(r'^(.{19})')[0]\n",
    "df['End_Time'] = df['End_Time'].str.extract(r'^(.{19})')[0]\n",
    "\n",
    "# Start_Time en End_Time moeten worden omgezet naar datetime\n",
    "df['Start_Time'] = pd.to_datetime(df['Start_Time'])\n",
    "df['End_Time'] = pd.to_datetime(df['End_Time'])\n",
    "\n",
    "# Temperature moet float worden\n",
    "df['Temperature(F)'] = pd.to_numeric(df['Temperature(F)'], errors='coerce')\n",
    "\n",
    "# Weather_Condition en Sunrise_Sunset zijn ook strings\n",
    "df[['Sunrise_Sunset', 'Weather_Condition']] = df[['Sunrise_Sunset', 'Weather_Condition']].astype('string')"
   ]
  },
  {
   "cell_type": "markdown",
   "id": "e39ac505-06f9-4bcd-a3f2-94f75e72c215",
   "metadata": {},
   "source": [
    "### Laatste check"
   ]
  },
  {
   "cell_type": "code",
   "execution_count": null,
   "id": "de86e989-390f-429a-8ed7-63dca2c2f8c5",
   "metadata": {
    "scrolled": true
   },
   "outputs": [],
   "source": [
    "print(df.info())"
   ]
  },
  {
   "cell_type": "markdown",
   "id": "fe9d3bd7-1f20-4cda-a39b-bcb8b1aef0ac",
   "metadata": {},
   "source": [
    "Alles ziet er goed uit"
   ]
  },
  {
   "cell_type": "markdown",
   "id": "d7bca2e4-a520-4da2-8e5c-557fea80c6a2",
   "metadata": {},
   "source": [
    "## Aantal ongevallen per tijdstippen\n",
    "In deze stap analyseer ik op **welke dagen** en in **welke maanden** de meeste verkeersongevallen plaatsvinden.\n",
    "\n",
    "We gebruiken hiervoor de `Start_Time` kolom in de dataset. Hieruit maak ik 2 nieuwe kolommen aan:\n",
    "- de **naam van de dag** (zoals maandag, dinsdag)  \n",
    "- de **naam van de maand** (zoals januari, februari)\n",
    "\n",
    "Daarna visualiseer ik de spreiding van ongevallen over de week en het jaar. Deze inzichten helpen ons om **drukke dagen** en **seizoensgebonden patronen** te herkennen."
   ]
  },
  {
   "cell_type": "code",
   "execution_count": null,
   "id": "609d5d7c-2afd-4bcf-a1d5-986c4bda0c6d",
   "metadata": {},
   "outputs": [],
   "source": [
    "# Nieuwe kolommen maken uit Start_Time \n",
    "df['Dag'] = df['Start_Time'].dt.day_name()\n",
    "df['Maand'] = df['Start_Time'].dt.month_name()\n",
    "\n",
    "# Controleren\n",
    "df.head()"
   ]
  },
  {
   "cell_type": "code",
   "execution_count": null,
   "id": "d04ed21f-acd1-448f-bac9-edb1aaf1e798",
   "metadata": {},
   "outputs": [],
   "source": [
    "plt.figure(figsize=(10, 5))\n",
    "\n",
    "# Week kolom maken en de dagen op een volgorde zetten\n",
    "df['Dag'].value_counts().loc[['Monday', 'Tuesday', 'Wednesday', 'Thursday', 'Friday', 'Saturday', 'Sunday']].plot(kind='bar')\n",
    "\n",
    "plt.title(\"Aantal Ongevallen per Dag van de Week\")\n",
    "plt.xlabel(\"Dag van de Week\")\n",
    "plt.ylabel(\"Aantal Ongevallen\")\n",
    "\n",
    "plt.xticks(rotation=45)\n",
    "plt.grid(True)\n",
    "plt.tight_layout()\n",
    "\n",
    "plt.show()"
   ]
  },
  {
   "cell_type": "markdown",
   "id": "ef2adebf-ee0a-411d-ba74-e4077f23c43a",
   "metadata": {},
   "source": [
    "De meeste verkeersongevallen vinden plaats op **vrijdag**, gevolgd door **donderdag** en **woensdag**. Dit patroon wijst erop dat ongevallen frequenter zijn aan het einde van de werkweek. Mogelijke verklaringen hiervoor zijn:\n",
    "\n",
    "\t•\tMeer verkeer op vrijdag vanwege mensen die eerder naar huis willen of op reis gaan voor het weekend.\n",
    "\t•\tVermoeidheid en stress na een drukke werkweek kunnen bijdragen aan verminderde concentratie op de weg.\n",
    "\t•\tZaterdag en zondag laten aanzienlijk minder ongevallen zien, wat logisch is gezien de lagere verkeersdrukte in het weekend.\n",
    "\n",
    "Deze inzichten kunnen nuttig zijn bij het plannen van verkeersmaatregelen of voorlichting, vooral gericht op de risicovolle werkdagen."
   ]
  },
  {
   "cell_type": "code",
   "execution_count": null,
   "id": "a4e2cf75-9192-45a0-bf7b-a2c5f58d1ff9",
   "metadata": {},
   "outputs": [],
   "source": [
    "plt.figure(figsize=(10, 5))\n",
    "\n",
    "# Maand kolom maken en maanden op een volgorde zetten\n",
    "df['Maand'].value_counts().loc[['January','February','March','April','May','June','July','August','September','October','November','December']\n",
    "].plot(kind='bar', color='mediumseagreen')\n",
    "\n",
    "# Visualiseren\n",
    "plt.title(\"Aantal Ongevallen per Maand\")\n",
    "plt.xlabel(\"Maand\")\n",
    "plt.ylabel(\"Aantal Ongevallen\")\n",
    "\n",
    "plt.xticks(rotation=45)\n",
    "plt.grid(True)\n",
    "plt.tight_layout()\n",
    "\n",
    "plt.show()"
   ]
  },
  {
   "cell_type": "markdown",
   "id": "339bd9f9-c225-44af-9f6c-68746c1180e4",
   "metadata": {},
   "source": [
    "Het hoogste aantal ongevallen vindt plaats in **december**, gevolgd door **januari** en **november**.In de zomermaanden (zoals juli en augustus) ligt het aantal ongevallen juist relatief laag. Mogelijke verklaringen:\n",
    "\n",
    "\t•\tWintermaanden brengen slechtere weersomstandigheden zoals sneeuw, regen en gladheid.\n",
    "\t•\tDecember heeft extra verkeer door feestdagen en drukte op de wegen.\n",
    "\t•\tIn de zomer zijn er vakanties en minder woon-werkverkeer, wat mogelijk leidt tot minder incidenten.\n",
    "\n",
    "Dit inzicht toont aan dat seizoen en weersomstandigheden een duidelijke invloed hebben op verkeersveiligheid."
   ]
  },
  {
   "cell_type": "markdown",
   "id": "b38021c8-1129-44f2-8fa1-bbd6013a1243",
   "metadata": {},
   "source": [
    "## Verdeling van ongevallen per dagdeel\n",
    "In deze stap onderzoek ik in welk deel van de dag de meeste verkeersongelukken plaatsvinden.  \n",
    "Ik zal de dag verdelen in vier periodes zodat ik kan analyseren. Hiervoor zal ik gebruiken maken van `Start_Time`:\n",
    "\n",
    "- Nacht (00:00 – 06:00)\n",
    "- Ochtend (06:00 – 12:00)\n",
    "- Middag (12:00 – 18:00)\n",
    "- Avond (18:00 – 00:00)\n",
    "\n",
    "Deze indeling helpt ons inzicht te krijgen in wanneer het verkeer het gevaarlijkst is. Bijv. tijdens iedereen naar werkt gaat of terug komt van werk."
   ]
  },
  {
   "cell_type": "code",
   "execution_count": null,
   "id": "becb7b1f-f224-4ce3-a456-00e7080fbeec",
   "metadata": {},
   "outputs": [],
   "source": [
    "# Een \"Uur\" kolom maken uit `Start_Time` kolom\n",
    "df['Uur'] = pd.to_datetime(df['Start_Time']).dt.hour\n",
    "\n",
    "# Dag verdelen in vier\n",
    "def dag_verdelen(uur):\n",
    "    if uur >= 0 and uur < 6:\n",
    "        return 'Nacht'\n",
    "    elif uur >= 6 and uur < 12:\n",
    "        return 'Ochtend'\n",
    "    elif uur >= 12 and uur < 18:\n",
    "        return 'Middag'\n",
    "    else:\n",
    "        return 'Avond'\n",
    "\n",
    "df['Dagdeel'] = df['Uur'].apply(dag_verdelen)\n",
    "\n",
    "# Controleren\n",
    "df.head()"
   ]
  },
  {
   "cell_type": "code",
   "execution_count": null,
   "id": "89885fdb-8046-4c5a-8b51-3cdeb6ca03e2",
   "metadata": {},
   "outputs": [],
   "source": [
    "plt.figure(figsize=(8, 5))\n",
    "\n",
    "# Dagdeel kolom aanmaken\n",
    "df['Dagdeel'].value_counts().loc[['Nacht', 'Ochtend', 'Middag', 'Avond']].plot(kind='bar', color='slateblue')\n",
    "\n",
    "# Visualiseren\n",
    "plt.title(\"Aantal Ongevallen per Dagdeel\")\n",
    "plt.xlabel(\"Dagdeel\")\n",
    "plt.ylabel(\"Aantal Ongevallen\")\n",
    "\n",
    "plt.xticks(rotation=45)\n",
    "plt.grid(True)\n",
    "plt.tight_layout()\n",
    "\n",
    "plt.show()"
   ]
  },
  {
   "cell_type": "markdown",
   "id": "a9625031-ea65-450b-b096-defec4dbbab5",
   "metadata": {},
   "source": [
    "Uit de grafiek blijkt dat de meeste ongevallen plaatsvinden in de **middag**, gevolgd door de **ochtend**.  \n",
    "Dit zou verklaard kunnen worden door druk verkeer tijdens werkuren en spitsmomenten. Mensen rijden nog sneller en zorgeloos om ergens op tijd te zijn. Dat veroorzaakt ook meer incidenten. \n",
    "\n",
    "Opvallend is dat het aantal ongevallen in de **nacht** het laagst is, waarschijnlijk door minder verkeer op de weg.  \n",
    "Deze inzichten kunnen handig zijn voor het bepalen van momenten waarop extra toezicht of verkeersveiligheidsmaatregelen nodig zijn en waneer wij als mensen meer voorzichtig moeten rijden op de weg."
   ]
  },
  {
   "cell_type": "markdown",
   "id": "6b2c86cc-3963-49e3-be5d-a4d9fb2f8562",
   "metadata": {},
   "source": [
    "## Analyse van het ongeval ratio per stad\n",
    "Om een dieper inzicht te krijgen in verkeersveiligheid in verschillende steden, was het niet voldoende om enkel het absolute aantal verkeersincidenten per stad te analyseren. Een stad met veel inwoners zal namelijk logischerwijs meer ongevallen hebben, simpelweg door de grotere bevolkingsomvang. Dit geeft een vertekend beeld bij het vergelijken van steden met uiteenlopende inwoneraantallen.\n",
    "\n",
    "Daarom heb ik ervoor gekozen om een aanvullende dataset in te laden met de bevolkingsgrootte per stad in de VS. Deze data heb ik verkregen via een publieke API van OpenDataSoft (us-cities-demographics). Door deze populatiegegevens te combineren met het aantal ongevallen per stad, kon ik een incidentratio per 100.000 inwoners berekenen.\n",
    "\n",
    "Met deze ratio kan ik:\n",
    "\n",
    "\t•\tSteden eerlijker vergelijken, ongeacht de grootte.\n",
    "\t•\tInzicht krijgen in welke steden relatief het gevaarlijkst zijn.\n",
    "\t•\tSpecifieke patronen of afwijkingen ontdekken die niet zichtbaar waren bij alleen het totaal aantal incidenten.\n",
    "\n",
    "Kortom: de aanvullende bevolkingsdataset is essentieel om de verkeersveiligheid per stad in verhouding tot het aantal inwoners te analyseren. Alleen zo kunnen we echt zinvolle inzichten verkrijgen."
   ]
  },
  {
   "cell_type": "code",
   "execution_count": null,
   "id": "cbbdf854-53cf-4e54-b289-220004addd03",
   "metadata": {
    "scrolled": true
   },
   "outputs": [],
   "source": [
    "# API aanvragen\n",
    "url = \"https://public.opendatasoft.com/api/records/1.0/search/\"\n",
    "params = {\n",
    "    \"dataset\": \"us-cities-demographics\",\n",
    "    \"rows\": 100,\n",
    "    \"start\": 0\n",
    "}\n",
    "\n",
    "all_data = []\n",
    "\n",
    "# Hele data inladen\n",
    "while params[\"start\"] < 2900:  # Totaal is 2981\n",
    "    r = requests.get(url, params=params)\n",
    "    data = r.json()\n",
    "    \n",
    "    for record in data[\"records\"]:\n",
    "        all_data.append(record[\"fields\"])\n",
    "    \n",
    "    params[\"start\"] += params[\"rows\"]\n",
    "\n",
    "# Maak een DataFrame met de benodigde kolommen\n",
    "df1 = pd.DataFrame(all_data)[[\"city\", \"state_code\", \"total_population\"]]\n",
    "df1"
   ]
  },
  {
   "cell_type": "code",
   "execution_count": null,
   "id": "96f41cba-29bc-4dbb-923c-272b33eb7302",
   "metadata": {},
   "outputs": [],
   "source": [
    "# Een aparte DataFrame maken\n",
    "ongeval_steden = df[\"City\"].value_counts().reset_index()\n",
    "ongeval_steden.rename(columns={\"City\":\"city\"}, inplace=True)\n",
    "\n",
    "# Dubbels verwijderen\n",
    "df1.drop_duplicates(subset=['city'], inplace=True)\n",
    "\n",
    "# Mergen met de externe API\n",
    "df_merged_city = pd.merge(ongeval_steden, df1, on=['city'], how=\"inner\")\n",
    "df_merged_city"
   ]
  },
  {
   "cell_type": "code",
   "execution_count": null,
   "id": "40448db3-f894-45cf-9358-6f326db805c6",
   "metadata": {},
   "outputs": [],
   "source": [
    "plt.figure(figsize=(12, 6))\n",
    "\n",
    "# Rate kolom per 100.000 inwoner\n",
    "df_merged_city[\"incident_rate\"] = (df_merged_city[\"count\"] / df_merged_city[\"total_population\"]) * 100_000\n",
    "top_20 = df_merged_city.sort_values(by=\"incident_rate\", ascending=False).head(20)\n",
    "\n",
    "# Visualiseren\n",
    "plt.bar(top_20[\"city\"], top_20[\"incident_rate\"], color=\"tomato\")\n",
    "plt.title(\"Top 20 Steden met Hoogste Verkeersongevalratio's\")\n",
    "plt.xlabel(\"Stad\")\n",
    "plt.ylabel(\"Incidenten per 100.000 inwoners\")\n",
    "\n",
    "plt.xticks(rotation=45)\n",
    "plt.tight_layout()\n",
    "plt.grid(True)\n",
    "\n",
    "plt.show()"
   ]
  },
  {
   "cell_type": "markdown",
   "id": "2c5eed09-44a0-4a9f-b5e8-e78233ecc8ee",
   "metadata": {},
   "source": [
    "In de bovenstaande grafiek tonen we de 20 steden met de hoogste ratio van verkeersongevallen per 100.000 inwoners. Opvallend is dat er zowel grote steden als middelgrote tot kleine steden in deze lijst staan. Enkele opvallende punten:\n",
    "\n",
    "\t•\tMiami, Greenville, Richmond en Orlando hebben de hoogste ratio’s, ondanks dat sommige van deze steden relatief minder inwoners hebben. Dit betekent dat het risico op een verkeersongeval in verhouding tot de bevolking daar erg hoog is.\n",
    "\t•\tSteden zoals Baton Rouge en Flint staan ook in de top, wat mogelijk wijst op structurele verkeersproblemen of lage infrastructuurkwaliteit.\n",
    "\t•\tInteressant is dat steden zoals Springfield en Rochester, die minder bekend zijn als drukke verkeersknooppunten, toch hoog eindigen in verhouding tot hun populatie.\n",
    "\t•\tSteden als Charlotte, Atlanta en Sacramento zijn iets groter, maar hebben relatief lagere ratio’s dan de rest van de top, wat betekent dat hun verkeer iets beter beheerd wordt of dat er betere infrastructuur is."
   ]
  },
  {
   "cell_type": "markdown",
   "id": "caccb546-0b30-4810-9306-e6d052bb596d",
   "metadata": {},
   "source": [
    "## Analyse van het ongeval ratio per staat\n",
    "Om de verkeersongevallen per staat op een eerlijke manier te vergelijken, is het belangrijk om rekening te houden met de bevolkingsgrootte. Aangezien ik alleen de populatiegegevens per stad heb, heb ik per staat de totale populatie berekend door de populatie van alle steden in die staat bij elkaar op te tellen.\n",
    "\n",
    "Zo kan ik het aantal ongevallen per 100.000 inwoners per staat bepalen en zo zien welke staten relatief het zwaarst getroffen zijn, los van hun grootte."
   ]
  },
  {
   "cell_type": "code",
   "execution_count": null,
   "id": "4c1f6e0b-fb8b-49a2-980c-9dc92da09f3c",
   "metadata": {
    "scrolled": true
   },
   "outputs": [],
   "source": [
    "# Totale populatie berekenen per staat\n",
    "populatie_staat = df_merged_city.groupby(\"state_code\")[\"total_population\"].sum()\n",
    "\n",
    "# Totaal ongevallen berekenen per staat\n",
    "ongevallen_staat = df_merged_city.groupby(\"state_code\")[\"count\"].sum()\n",
    "\n",
    "# Mergen\n",
    "df_staat = pd.merge(populatie_staat, ongevallen_staat, on=[\"state_code\"], how=\"inner\")\n",
    "\n",
    "# Incidenten berekenen per 100.000 \n",
    "df_staat[\"Ongeval ratio\"] = (df_staat[\"count\"] / df_staat[\"total_population\"]) * 100_000\n",
    "\n",
    "# Selecteren top 10\n",
    "top_10 = df_staat.nlargest(10, \"Ongeval ratio\")"
   ]
  },
  {
   "cell_type": "code",
   "execution_count": null,
   "id": "61857ff6-4cc6-4c88-bddf-9d4020973983",
   "metadata": {},
   "outputs": [],
   "source": [
    "# Visualisatie\n",
    "plt.figure(figsize=(12, 6))\n",
    "plt.bar(top_10.index, top_10[\"Ongeval ratio\"], color=\"tomato\")\n",
    "\n",
    "plt.title(\"Top 10 Staten met Hoogste Ongevallenratio per 100.000 Inwoners\")\n",
    "plt.xlabel(\"Staat\")\n",
    "plt.ylabel(\"Ongevallen per 100.000 inwoners\")\n",
    "\n",
    "plt.grid(True)\n",
    "plt.tight_layout()\n",
    "\n",
    "plt.show()"
   ]
  },
  {
   "cell_type": "markdown",
   "id": "f7375ca6-f0c4-4a55-b9ab-78ebd67c313c",
   "metadata": {},
   "source": [
    "De grafiek toont dat North Carolina (NC), Louisiana (LA) en Minnesota (MN) de hoogste ongevalratio’s hebben, ondanks dat sommige van deze staten niet tot de grootste behoren qua inwonertal.\n",
    "\n",
    "Mogelijke verklaringen:\n",
    "\n",
    "\t•\tSlechtere verkeersveiligheid of infrastructuur\n",
    "\t•\tWeersomstandigheden of rijgedrag\n",
    "\t•\tSpecifieke stedelijke gebieden met veel verkeer binnen een relatief kleine populatie\n",
    "\n",
    "Deze analyse geeft beleidsmakers en onderzoekers richting bij het identificeren van staten waar verkeersveiligheid extra aandacht verdient.."
   ]
  },
  {
   "cell_type": "code",
   "execution_count": null,
   "id": "7205b4b6-46d6-4f8b-82ee-d96ca415023c",
   "metadata": {},
   "outputs": [],
   "source": [
    "asd"
   ]
  }
 ],
 "metadata": {
  "kernelspec": {
   "display_name": "Python 3 (ipykernel)",
   "language": "python",
   "name": "python3"
  },
  "language_info": {
   "codemirror_mode": {
    "name": "ipython",
    "version": 3
   },
   "file_extension": ".py",
   "mimetype": "text/x-python",
   "name": "python",
   "nbconvert_exporter": "python",
   "pygments_lexer": "ipython3",
   "version": "3.12.6"
  }
 },
 "nbformat": 4,
 "nbformat_minor": 5
}
