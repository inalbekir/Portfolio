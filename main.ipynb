{
 "cells": [
  {
   "cell_type": "markdown",
   "id": "3f942a0a-3a93-49da-b9db-d89220f8ddec",
   "metadata": {},
   "source": [
    "# Verkeersdata Analyse Porfolio"
   ]
  },
  {
   "cell_type": "code",
   "execution_count": 1,
   "id": "cd7afc00-9954-4aa7-908a-a35fad66273c",
   "metadata": {},
   "outputs": [],
   "source": [
    "# Libraries inladen\n",
    "import pandas as pd"
   ]
  },
  {
   "cell_type": "code",
   "execution_count": 4,
   "id": "4f66c7d2-3d44-4f69-9468-5a5a792d55c2",
   "metadata": {},
   "outputs": [],
   "source": [
    "# Datasets inladen\n",
    "accidents = pd.read_csv(\"datasets/accident_data.csv\")\n",
    "roads = pd.read_csv(\"datasets/road_data.csv\")\n",
    "weather = pd.read_csv(\"datasets/weather_data.csv\")"
   ]
  },
  {
   "cell_type": "markdown",
   "id": "f80fcaf3-4680-4108-930e-aea3ec873500",
   "metadata": {},
   "source": [
    "### Onvolledige data verwijderen of aanvullen"
   ]
  },
  {
   "cell_type": "code",
   "execution_count": 12,
   "id": "fa5c2c86-3b2f-44ef-80ac-9563276c8251",
   "metadata": {},
   "outputs": [
    {
     "name": "stdout",
     "output_type": "stream",
     "text": [
      "\n",
      " Missende waarden in: Accident Data\n",
      "ID               0.0000\n",
      "Source           0.0000\n",
      "Severity         0.0000\n",
      "Start_Time       0.0000\n",
      "End_Time         0.0000\n",
      "Start_Lat        0.0000\n",
      "Start_Lng        0.0000\n",
      "End_Lat         44.0754\n",
      "End_Lng         44.0754\n",
      "Distance(mi)     0.0000\n",
      "Description      0.0002\n",
      "City             0.0038\n",
      "County           0.0000\n",
      "State            0.0000\n",
      "Zipcode          0.0232\n",
      "dtype: float64\n",
      "\n",
      " Missende waarden in: Weather Data\n",
      "Start_Time            0.0000\n",
      "Weather_Timestamp     1.5348\n",
      "Temperature(F)        2.0932\n",
      "Wind_Chill(F)        25.8034\n",
      "Humidity(%)           2.2260\n",
      "Pressure(in)          1.7856\n",
      "Visibility(mi)        2.2582\n",
      "Wind_Direction        2.2394\n",
      "Wind_Speed(mph)       7.3974\n",
      "Precipitation(in)    28.5232\n",
      "Weather_Condition     2.2202\n",
      "dtype: float64\n",
      "\n",
      " Missende waarden in: Road Data\n",
      "ID                 0.0\n",
      "Amenity            0.0\n",
      "Bump               0.0\n",
      "Crossing           0.0\n",
      "Give_Way           0.0\n",
      "Junction           0.0\n",
      "No_Exit            0.0\n",
      "Railway            0.0\n",
      "Roundabout         0.0\n",
      "Station            0.0\n",
      "Stop               0.0\n",
      "Traffic_Calming    0.0\n",
      "Traffic_Signal     0.0\n",
      "dtype: float64\n"
     ]
    }
   ],
   "source": [
    "def missende_waardes(df, name):\n",
    "    print(f\"\\n Missende waarden in: {name}\")\n",
    "    print((df.isnull().sum() / len(df) * 100))\n",
    "\n",
    "missende_waardes(accidents, \"Accident Data\")\n",
    "missende_waardes(weather, \"Weather Data\")\n",
    "missende_waardes(roads, \"Road Data\")"
   ]
  },
  {
   "cell_type": "code",
   "execution_count": null,
   "id": "72a21de0-b364-468b-bf7e-33d001136cc6",
   "metadata": {},
   "outputs": [],
   "source": [
    "accidents.drop(['End_Lat', 'End_Lng', 'Precipitation(in)'], axis=1, inplace=True)"
   ]
  },
  {
   "cell_type": "code",
   "execution_count": 11,
   "id": "3c722f85-5549-436a-85ff-85ce61e69163",
   "metadata": {},
   "outputs": [
    {
     "name": "stdout",
     "output_type": "stream",
     "text": [
      "0    0.0\n",
      "1    0.0\n",
      "2    0.0\n",
      "3    0.0\n",
      "4    0.0\n",
      "Name: Precipitation(in), dtype: float64\n"
     ]
    }
   ],
   "source": [
    "print(weather[\"Precipitation(in)\"].head())"
   ]
  },
  {
   "cell_type": "code",
   "execution_count": null,
   "id": "d0cbd5ed-1b08-4b36-82f6-8a042048cabb",
   "metadata": {},
   "outputs": [],
   "source": []
  }
 ],
 "metadata": {
  "kernelspec": {
   "display_name": "Python 3 (ipykernel)",
   "language": "python",
   "name": "python3"
  },
  "language_info": {
   "codemirror_mode": {
    "name": "ipython",
    "version": 3
   },
   "file_extension": ".py",
   "mimetype": "text/x-python",
   "name": "python",
   "nbconvert_exporter": "python",
   "pygments_lexer": "ipython3",
   "version": "3.12.6"
  }
 },
 "nbformat": 4,
 "nbformat_minor": 5
}
