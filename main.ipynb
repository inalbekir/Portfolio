{
 "cells": [
  {
   "cell_type": "markdown",
   "id": "3f942a0a-3a93-49da-b9db-d89220f8ddec",
   "metadata": {},
   "source": [
    "# Verkeersdata Analyse Porfolio"
   ]
  },
  {
   "cell_type": "code",
   "execution_count": 1,
   "id": "cd7afc00-9954-4aa7-908a-a35fad66273c",
   "metadata": {},
   "outputs": [],
   "source": [
    "# Libraries inladen\n",
    "import pandas as pd"
   ]
  },
  {
   "cell_type": "code",
   "execution_count": 2,
   "id": "4f66c7d2-3d44-4f69-9468-5a5a792d55c2",
   "metadata": {},
   "outputs": [],
   "source": [
    "# Datasets inladen\n",
    "accidents = pd.read_csv(\"datasets/accident_data.csv\")\n",
    "roads = pd.read_csv(\"datasets/road_data.csv\")\n",
    "weather = pd.read_csv(\"datasets/weather_data.csv\")"
   ]
  },
  {
   "cell_type": "markdown",
   "id": "f80fcaf3-4680-4108-930e-aea3ec873500",
   "metadata": {},
   "source": [
    "## Onvolledige data verwijderen of aanvullen"
   ]
  },
  {
   "cell_type": "code",
   "execution_count": 3,
   "id": "66f1e19a-157a-48ff-a760-f63046be6305",
   "metadata": {
    "scrolled": true
   },
   "outputs": [
    {
     "name": "stdout",
     "output_type": "stream",
     "text": [
      "\n",
      " Accident Data \n",
      "\n",
      "-------------------------\n",
      "          ID   Source  Severity                     Start_Time  \\\n",
      "0  A-2047758  Source2         2            2019-06-12 10:10:56   \n",
      "1  A-4694324  Source1         2  2022-12-03 23:37:14.000000000   \n",
      "2  A-5006183  Source1         2  2022-08-20 13:13:00.000000000   \n",
      "3  A-4237356  Source1         2            2022-02-21 17:43:04   \n",
      "4  A-6690583  Source1         2            2020-12-04 01:46:00   \n",
      "\n",
      "                        End_Time  Start_Lat   Start_Lng    End_Lat  \\\n",
      "0            2019-06-12 10:55:58  30.641211  -91.153481        NaN   \n",
      "1  2022-12-04 01:56:53.000000000  38.990562  -77.399070  38.990037   \n",
      "2  2022-08-20 15:22:45.000000000  34.661189 -120.492822  34.661189   \n",
      "3            2022-02-21 19:43:23  43.680592  -92.993317  43.680574   \n",
      "4            2020-12-04 04:13:09  35.395484 -118.985176  35.395476   \n",
      "\n",
      "      End_Lng  Distance(mi)  \\\n",
      "0         NaN         0.000   \n",
      "1  -77.398282         0.056   \n",
      "2 -120.492442         0.022   \n",
      "3  -92.972223         1.054   \n",
      "4 -118.985995         0.046   \n",
      "\n",
      "                                         Description         City  \\\n",
      "0  Accident on LA-19 Baker-Zachary Hwy at Lower Z...      Zachary   \n",
      "1  Incident on FOREST RIDGE DR near PEPPERIDGE PL...     Sterling   \n",
      "2  Accident on W Central Ave from Floradale Ave t...       Lompoc   \n",
      "3  Incident on I-90 EB near REST AREA Drive with ...       Austin   \n",
      "4  RP ADV THEY LOCATED SUSP VEH OF 20002 - 726 CR...  Bakersfield   \n",
      "\n",
      "             County State     Zipcode  \n",
      "0  East Baton Rouge    LA  70791-4610  \n",
      "1           Loudoun    VA  20164-2813  \n",
      "2     Santa Barbara    CA       93436  \n",
      "3             Mower    MN       55912  \n",
      "4              Kern    CA  93305-2649  \n",
      "\n",
      " Weather Data \n",
      "\n",
      "-------------------------\n",
      "                      Start_Time    Weather_Timestamp  Temperature(F)  \\\n",
      "0            2019-06-12 10:10:56  2019-06-12 09:53:00            77.0   \n",
      "1  2022-12-03 23:37:14.000000000  2022-12-03 23:52:00            45.0   \n",
      "2  2022-08-20 13:13:00.000000000  2022-08-20 12:56:00            68.0   \n",
      "3            2022-02-21 17:43:04  2022-02-21 17:35:00            27.0   \n",
      "4            2020-12-04 01:46:00  2020-12-04 01:54:00            42.0   \n",
      "\n",
      "   Wind_Chill(F)  Humidity(%)  Pressure(in)  Visibility(mi) Wind_Direction  \\\n",
      "0           77.0         62.0         29.92            10.0             NW   \n",
      "1           43.0         48.0         29.91            10.0              W   \n",
      "2           68.0         73.0         29.79            10.0              W   \n",
      "3           15.0         86.0         28.49            10.0            ENE   \n",
      "4           42.0         34.0         29.77            10.0           CALM   \n",
      "\n",
      "   Wind_Speed(mph)  Precipitation(in) Weather_Condition Sunrise_Sunset  \n",
      "0              5.0                0.0              Fair            Day  \n",
      "1              5.0                0.0              Fair          Night  \n",
      "2             13.0                0.0              Fair            Day  \n",
      "3             15.0                0.0        Wintry Mix            Day  \n",
      "4              0.0                0.0              Fair          Night  \n",
      "\n",
      " Road Data \n",
      "\n",
      "-------------------------\n",
      "          ID  Amenity   Bump  Crossing  Give_Way  Junction  No_Exit  Railway  \\\n",
      "0  A-2047758    False  False     False     False     False    False    False   \n",
      "1  A-4694324    False  False     False     False     False    False    False   \n",
      "2  A-5006183    False  False     False     False     False    False    False   \n",
      "3  A-4237356    False  False     False     False     False    False    False   \n",
      "4  A-6690583    False  False     False     False     False    False    False   \n",
      "\n",
      "   Roundabout  Station   Stop  Traffic_Calming  Traffic_Signal  \n",
      "0       False    False  False            False            True  \n",
      "1       False    False  False            False           False  \n",
      "2       False    False  False            False            True  \n",
      "3       False    False  False            False           False  \n",
      "4       False    False  False            False           False  \n"
     ]
    }
   ],
   "source": [
    "# Overzicht Data\n",
    "def overzicht(df, name):\n",
    "    print(f\"\\n {name} \\n\")\n",
    "    print(\"-------------------------\")\n",
    "    print(df.head())\n",
    "\n",
    "overzicht(accidents, \"Accident Data\")\n",
    "overzicht(weather, \"Weather Data\")\n",
    "overzicht(roads, \"Road Data\")"
   ]
  },
  {
   "cell_type": "code",
   "execution_count": 4,
   "id": "fa5c2c86-3b2f-44ef-80ac-9563276c8251",
   "metadata": {
    "scrolled": true
   },
   "outputs": [
    {
     "name": "stdout",
     "output_type": "stream",
     "text": [
      "\n",
      " Missende waarden in: Accident Data\n",
      "ID               0.0000\n",
      "Source           0.0000\n",
      "Severity         0.0000\n",
      "Start_Time       0.0000\n",
      "End_Time         0.0000\n",
      "Start_Lat        0.0000\n",
      "Start_Lng        0.0000\n",
      "End_Lat         44.0754\n",
      "End_Lng         44.0754\n",
      "Distance(mi)     0.0000\n",
      "Description      0.0002\n",
      "City             0.0038\n",
      "County           0.0000\n",
      "State            0.0000\n",
      "Zipcode          0.0232\n",
      "dtype: float64\n",
      "\n",
      " Missende waarden in: Weather Data\n",
      "Start_Time            0.0000\n",
      "Weather_Timestamp     1.5348\n",
      "Temperature(F)        2.0932\n",
      "Wind_Chill(F)        25.8034\n",
      "Humidity(%)           2.2260\n",
      "Pressure(in)          1.7856\n",
      "Visibility(mi)        2.2582\n",
      "Wind_Direction        2.2394\n",
      "Wind_Speed(mph)       7.3974\n",
      "Precipitation(in)    28.5232\n",
      "Weather_Condition     2.2202\n",
      "Sunrise_Sunset        0.2966\n",
      "dtype: float64\n",
      "\n",
      " Missende waarden in: Road Data\n",
      "ID                 0.0\n",
      "Amenity            0.0\n",
      "Bump               0.0\n",
      "Crossing           0.0\n",
      "Give_Way           0.0\n",
      "Junction           0.0\n",
      "No_Exit            0.0\n",
      "Railway            0.0\n",
      "Roundabout         0.0\n",
      "Station            0.0\n",
      "Stop               0.0\n",
      "Traffic_Calming    0.0\n",
      "Traffic_Signal     0.0\n",
      "dtype: float64\n"
     ]
    }
   ],
   "source": [
    "# Missende waarden detecteren\n",
    "def missende_waardes(df, name):\n",
    "    print(f\"\\n Missende waarden in: {name}\")\n",
    "    print((df.isnull().sum() / len(df) * 100))\n",
    "\n",
    "missende_waardes(accidents, \"Accident Data\")\n",
    "missende_waardes(weather, \"Weather Data\")\n",
    "missende_waardes(roads, \"Road Data\")"
   ]
  },
  {
   "cell_type": "markdown",
   "id": "48ba5590-988c-4b33-9aa0-9c4e698a36a6",
   "metadata": {},
   "source": [
    "### Accidents Data"
   ]
  },
  {
   "cell_type": "markdown",
   "id": "7ae3e6f7-0814-48b2-b214-bd195ccca0a4",
   "metadata": {},
   "source": [
    "In de kolommen End_lat en End_lng zitten ook heel veel missende waardes. Aangezien ik al de coordinaten van de incident locaties heb (Start_Lat - Start_Lng) heb ik deze twee kolommen niet nodig."
   ]
  },
  {
   "cell_type": "code",
   "execution_count": 5,
   "id": "e26f5a0d-63e1-4074-ac57-e1ee351a5f84",
   "metadata": {},
   "outputs": [],
   "source": [
    "# End_Lat en End_Lng kolommen verwijderen met  veel missende waardes (indien niet nodig)\n",
    "accidents.drop(['End_Lat', 'End_Lng'], axis=1, inplace=True)"
   ]
  },
  {
   "cell_type": "markdown",
   "id": "b1f0383c-3aa4-4f96-ac60-c812d6d03df6",
   "metadata": {},
   "source": [
    "In de description en city kolommen zitten heel weininig nan waardes, hierbij kunnen we heel makkelijk deze rijen veranderen, want het zal geen effect hebben op de analyse."
   ]
  },
  {
   "cell_type": "code",
   "execution_count": 6,
   "id": "2e3e9517-775d-4c9e-b454-3800ccd2682a",
   "metadata": {},
   "outputs": [],
   "source": [
    "# Rijen met nan waardes verwijderen\n",
    "accidents.dropna(subset=[\"Description\", \"City\", \"Zipcode\"], inplace=True)"
   ]
  },
  {
   "cell_type": "markdown",
   "id": "55fded00-63b0-48a9-894c-0d125ffb045f",
   "metadata": {},
   "source": [
    "### Weather Data"
   ]
  },
  {
   "cell_type": "markdown",
   "id": "b1ab756c-1ea0-4ea1-b166-d34ecfec3468",
   "metadata": {},
   "source": [
    "In de kolom 'Precipitation(in)' zitten veel missende waarden. Aangezien waarschijnlijk in de meeste geval niet regenen of sneeuwen betekent dat er geen regen of sneeuw is gevallen, besloot ik om de missende waarden met '0.0' te invullen. Zo heb ik geen dataverlies en kan werken met deze kolom."
   ]
  },
  {
   "cell_type": "code",
   "execution_count": 7,
   "id": "156f3aa4-a85e-4b92-ac83-33142172d6c7",
   "metadata": {},
   "outputs": [],
   "source": [
    "# None waardes veranderen met 0\n",
    "weather.fillna({\"Precipitation(in)\": 0.0}, inplace=True)"
   ]
  },
  {
   "cell_type": "markdown",
   "id": "71aa8dec-ec64-4972-8a76-4ff52681f016",
   "metadata": {},
   "source": [
    "Als je kijkt naar de Wind_Chill(F) kolom, zie je dat het meestaal heel dichtbij of soms helemaal hetzelfde is met de Temperature(F) kolom. Dit betekent dat de NaN waardes gewoon met de waardes van Temperature(F) opgevuld kan worden. Dit geldt ook voor de kolom Temperature(F)."
   ]
  },
  {
   "cell_type": "code",
   "execution_count": 8,
   "id": "95308d1b-26f0-44d3-a3ed-62b8296bf11d",
   "metadata": {},
   "outputs": [
    {
     "data": {
      "text/html": [
       "<div>\n",
       "<style scoped>\n",
       "    .dataframe tbody tr th:only-of-type {\n",
       "        vertical-align: middle;\n",
       "    }\n",
       "\n",
       "    .dataframe tbody tr th {\n",
       "        vertical-align: top;\n",
       "    }\n",
       "\n",
       "    .dataframe thead th {\n",
       "        text-align: right;\n",
       "    }\n",
       "</style>\n",
       "<table border=\"1\" class=\"dataframe\">\n",
       "  <thead>\n",
       "    <tr style=\"text-align: right;\">\n",
       "      <th></th>\n",
       "      <th>Wind_Chill(F)</th>\n",
       "      <th>Temperature(F)</th>\n",
       "    </tr>\n",
       "  </thead>\n",
       "  <tbody>\n",
       "    <tr>\n",
       "      <th>0</th>\n",
       "      <td>77.0</td>\n",
       "      <td>77.0</td>\n",
       "    </tr>\n",
       "    <tr>\n",
       "      <th>1</th>\n",
       "      <td>43.0</td>\n",
       "      <td>45.0</td>\n",
       "    </tr>\n",
       "    <tr>\n",
       "      <th>2</th>\n",
       "      <td>68.0</td>\n",
       "      <td>68.0</td>\n",
       "    </tr>\n",
       "    <tr>\n",
       "      <th>3</th>\n",
       "      <td>15.0</td>\n",
       "      <td>27.0</td>\n",
       "    </tr>\n",
       "    <tr>\n",
       "      <th>4</th>\n",
       "      <td>42.0</td>\n",
       "      <td>42.0</td>\n",
       "    </tr>\n",
       "  </tbody>\n",
       "</table>\n",
       "</div>"
      ],
      "text/plain": [
       "   Wind_Chill(F)  Temperature(F)\n",
       "0           77.0            77.0\n",
       "1           43.0            45.0\n",
       "2           68.0            68.0\n",
       "3           15.0            27.0\n",
       "4           42.0            42.0"
      ]
     },
     "execution_count": 8,
     "metadata": {},
     "output_type": "execute_result"
    }
   ],
   "source": [
    "weather[[\"Wind_Chill(F)\",\"Temperature(F)\"]].head()"
   ]
  },
  {
   "cell_type": "code",
   "execution_count": 9,
   "id": "070c5330-2cec-4349-9439-317515e6949f",
   "metadata": {},
   "outputs": [],
   "source": [
    "# Opvullen met dichtstbijzijnde waardes\n",
    "weather.fillna({\"Wind_Chill(F)\": \"Temperature(F)\"}, inplace=True)\n",
    "weather.fillna({\"Temperature(F)\": \"Wind_Chill(F)\"}, inplace=True)"
   ]
  },
  {
   "cell_type": "markdown",
   "id": "3766687c-864b-4b89-8a8c-940728317140",
   "metadata": {},
   "source": [
    "Omdat de resterende kolommen heel weinig NaN waardes bevatten, kunnen de rijen met de NaN values gelijk werwijderd kan worden. Dit heeft geen effect op de analyse en de data begrijpelijker."
   ]
  },
  {
   "cell_type": "code",
   "execution_count": 10,
   "id": "9b995603-0752-4c51-ae6d-c8925cc45d7a",
   "metadata": {},
   "outputs": [],
   "source": [
    "# De rijen met weinig missende waardes verwijderen\n",
    "weather.dropna(subset=[\"Humidity(%)\", \"Pressure(in)\" \n",
    "                       ,\"Visibility(mi)\", \"Wind_Direction\", \n",
    "                       \"Wind_Speed(mph)\", \"Weather_Condition\", \"Sunrise_Sunset\"], \n",
    "               inplace=True)"
   ]
  },
  {
   "cell_type": "markdown",
   "id": "4749afdf-67b7-4f1e-8dda-58a0586e030d",
   "metadata": {},
   "source": [
    "### Roads Data"
   ]
  },
  {
   "cell_type": "code",
   "execution_count": 11,
   "id": "cdca9c10-a840-4e8b-8946-f38745fcda1d",
   "metadata": {},
   "outputs": [
    {
     "data": {
      "text/plain": [
       "Start_Time           0\n",
       "Weather_Timestamp    0\n",
       "Temperature(F)       0\n",
       "Wind_Chill(F)        0\n",
       "Humidity(%)          0\n",
       "Pressure(in)         0\n",
       "Visibility(mi)       0\n",
       "Wind_Direction       0\n",
       "Wind_Speed(mph)      0\n",
       "Precipitation(in)    0\n",
       "Weather_Condition    0\n",
       "Sunrise_Sunset       0\n",
       "dtype: int64"
      ]
     },
     "execution_count": 11,
     "metadata": {},
     "output_type": "execute_result"
    }
   ],
   "source": [
    "weather.isnull().sum()"
   ]
  },
  {
   "cell_type": "markdown",
   "id": "6e61cc4c-417d-49ab-aad7-889e25b674e2",
   "metadata": {},
   "source": [
    "Alle missende waardes zijn nu verwijderd."
   ]
  },
  {
   "cell_type": "code",
   "execution_count": 12,
   "id": "cfa959d1-9aa2-47be-8767-e71be35878ce",
   "metadata": {
    "scrolled": true
   },
   "outputs": [
    {
     "name": "stdout",
     "output_type": "stream",
     "text": [
      "\n",
      " Missende waarden in: Accident Data\n",
      "ID              0.0\n",
      "Source          0.0\n",
      "Severity        0.0\n",
      "Start_Time      0.0\n",
      "End_Time        0.0\n",
      "Start_Lat       0.0\n",
      "Start_Lng       0.0\n",
      "Distance(mi)    0.0\n",
      "Description     0.0\n",
      "City            0.0\n",
      "County          0.0\n",
      "State           0.0\n",
      "Zipcode         0.0\n",
      "dtype: float64\n",
      "\n",
      " Missende waarden in: Weather Data\n",
      "Start_Time           0.0\n",
      "Weather_Timestamp    0.0\n",
      "Temperature(F)       0.0\n",
      "Wind_Chill(F)        0.0\n",
      "Humidity(%)          0.0\n",
      "Pressure(in)         0.0\n",
      "Visibility(mi)       0.0\n",
      "Wind_Direction       0.0\n",
      "Wind_Speed(mph)      0.0\n",
      "Precipitation(in)    0.0\n",
      "Weather_Condition    0.0\n",
      "Sunrise_Sunset       0.0\n",
      "dtype: float64\n",
      "\n",
      " Missende waarden in: Road Data\n",
      "ID                 0.0\n",
      "Amenity            0.0\n",
      "Bump               0.0\n",
      "Crossing           0.0\n",
      "Give_Way           0.0\n",
      "Junction           0.0\n",
      "No_Exit            0.0\n",
      "Railway            0.0\n",
      "Roundabout         0.0\n",
      "Station            0.0\n",
      "Stop               0.0\n",
      "Traffic_Calming    0.0\n",
      "Traffic_Signal     0.0\n",
      "dtype: float64\n"
     ]
    }
   ],
   "source": [
    "missende_waardes(accidents, \"Accident Data\")\n",
    "missende_waardes(weather, \"Weather Data\")\n",
    "missende_waardes(roads, \"Road Data\")"
   ]
  },
  {
   "cell_type": "markdown",
   "id": "64dbb804-9a36-4d09-8f79-277dc0700afe",
   "metadata": {},
   "source": [
    "## Onnodige Kolommen verwijderen\n",
    "Om de data overzichtelijk te houden, onnodig geheugengebruik te voorkomen en alleen met kolommen te werken die relevant zijn voor de analyse, is het handig om een paar overbodige kolommen te verwijderen."
   ]
  },
  {
   "cell_type": "code",
   "execution_count": 13,
   "id": "ab42ea47-43d1-4fe7-8665-eefa79401756",
   "metadata": {},
   "outputs": [],
   "source": [
    "# Accidents\n",
    "accidents.drop(columns=[\n",
    "    \"Description\", \"Source\", \"Zipcode\", \"Distance(mi)\"\n",
    "]\n",
    "               , inplace=True)\n",
    "\n",
    "# Weather\n",
    "weather.drop(columns=[\n",
    "    \"Start_Time\", \"Wind_Chill(F)\", \"Visibility(mi)\", \"Wind_Direction\"\n",
    "]\n",
    "            , inplace=True)"
   ]
  },
  {
   "cell_type": "code",
   "execution_count": 14,
   "id": "64dd5fed-6fd5-4f5a-b933-867038119b2c",
   "metadata": {},
   "outputs": [
    {
     "name": "stdout",
     "output_type": "stream",
     "text": [
      "Index(['Weather_Timestamp', 'Temperature(F)', 'Humidity(%)', 'Pressure(in)',\n",
      "       'Wind_Speed(mph)', 'Precipitation(in)', 'Weather_Condition',\n",
      "       'Sunrise_Sunset'],\n",
      "      dtype='object')\n",
      "-------------\n",
      "Index(['ID', 'Severity', 'Start_Time', 'End_Time', 'Start_Lat', 'Start_Lng',\n",
      "       'City', 'County', 'State'],\n",
      "      dtype='object')\n"
     ]
    }
   ],
   "source": [
    "print(weather.columns)\n",
    "print(\"-------------\")\n",
    "print(accidents.columns)"
   ]
  },
  {
   "cell_type": "markdown",
   "id": "7b3e7ad4-1ddb-4516-af13-095bc78ed0bb",
   "metadata": {},
   "source": [
    "## Onrealistische waarden filtreren\n",
    "Uitschieters of fout waardes verwijderen."
   ]
  },
  {
   "cell_type": "code",
   "execution_count": 15,
   "id": "6c7e9d52-3d91-47d8-b60f-b49275a025a7",
   "metadata": {},
   "outputs": [
    {
     "name": "stdout",
     "output_type": "stream",
     "text": [
      "Weather data:\n",
      "         Humidity(%)   Pressure(in)  Wind_Speed(mph)  Precipitation(in)\n",
      "count  456838.000000  456838.000000    456838.000000      456838.000000\n",
      "mean       64.418735      29.510880         7.686263           0.005813\n",
      "std        22.771445       1.018249         5.424766           0.064346\n",
      "min         1.000000      19.360000         0.000000           0.000000\n",
      "25%        48.000000      29.330000         4.600000           0.000000\n",
      "50%        67.000000      29.830000         7.000000           0.000000\n",
      "75%        84.000000      30.020000        10.400000           0.000000\n",
      "max       100.000000      38.440000       822.800000          10.090000\n",
      "Accidents data:\n",
      "            Severity      Start_Lat      Start_Lng\n",
      "count  499864.000000  499864.000000  499864.000000\n",
      "mean        2.212732      36.206719     -94.736331\n",
      "std         0.486630       5.071011      17.404941\n",
      "min         1.000000      24.562117    -124.497420\n",
      "25%         2.000000      33.417772    -117.232848\n",
      "50%         2.000000      35.831764     -87.797767\n",
      "75%         2.000000      40.082806     -80.359587\n",
      "max         4.000000      48.999569     -67.484130\n"
     ]
    }
   ],
   "source": [
    "# Kijken of er foute waarden tussen zitten\n",
    "def inzicht_waarden(df, name):\n",
    "    print(f\"{name} data:\")\n",
    "    print(df.describe())\n",
    "\n",
    "inzicht_waarden(weather, \"Weather\")\n",
    "inzicht_waarden(accidents, \"Accidents\")"
   ]
  },
  {
   "cell_type": "markdown",
   "id": "14de3fe1-50e7-4fa4-bd2e-4baa07612ea7",
   "metadata": {},
   "source": [
    "### Weather Data\n",
    "#### Wind-luchtdruk (Pressure)\n",
    "Winddruk kan niet minder dan 25 of meer dan 32 zijn. Meer informatie kun je [hier](https://www.rovary.com/pages/luchtdruk) vinden. Daarom filtreer ik de waarden in Pressure kolom tussen 25 en 32 inch."
   ]
  },
  {
   "cell_type": "code",
   "execution_count": 16,
   "id": "fe60e150-5509-4c46-826a-8821781aac70",
   "metadata": {},
   "outputs": [],
   "source": [
    "# Waarden filtreren tussen 25 en 32\n",
    "weather = weather[(weather['Pressure(in)'] >= 25) & (weather['Pressure(in)'] <= 32)]"
   ]
  },
  {
   "cell_type": "markdown",
   "id": "af50e478-157a-40f6-b37d-97ff35bd6385",
   "metadata": {},
   "source": [
    "#### Windsnelheid (Wind_speed)\n",
    "Volgens de [Saffir-Simpson orkaanschaal](https://www.nhc.noaa.gov/aboutsshws.php) beginnen orkanen bij windsnelheden van 74 mph. Zelfs de zwaarste orkanen (categorie 5) hebben windsnelheden van 157 mph of hoger. Dus waarden zoals 822mph zijn fysiek onmogelijk en dus fout. Om het realistisch te houden zal ik de windsnelheid filtreren tot 120 mph."
   ]
  },
  {
   "cell_type": "code",
   "execution_count": 17,
   "id": "ec5f05df-a711-45e3-8f4a-ad910148affc",
   "metadata": {},
   "outputs": [],
   "source": [
    "# Windsnelheid filtreren tot 120 mph\n",
    "weather = weather[(weather['Wind_Speed(mph)'] <= 120)]"
   ]
  },
  {
   "cell_type": "markdown",
   "id": "0ccfc91a-4e8c-418b-a23b-882c6930719b",
   "metadata": {},
   "source": [
    "## Datatypes Corrigeren \n",
    "Elke kolom in de datasets moet het juiste datatype hebben, zodat verdere analyses soepel verlopen en foutmeldingen worden voorkomen."
   ]
  },
  {
   "cell_type": "markdown",
   "id": "28c1e11c-537f-46a3-b039-6dca108a889f",
   "metadata": {},
   "source": [
    "### Accidents"
   ]
  },
  {
   "cell_type": "code",
   "execution_count": 18,
   "id": "3267c7ec-3b77-4888-a78b-531e3315a7d0",
   "metadata": {},
   "outputs": [
    {
     "name": "stdout",
     "output_type": "stream",
     "text": [
      "<class 'pandas.core.frame.DataFrame'>\n",
      "Index: 499864 entries, 0 to 499999\n",
      "Data columns (total 9 columns):\n",
      " #   Column      Non-Null Count   Dtype  \n",
      "---  ------      --------------   -----  \n",
      " 0   ID          499864 non-null  object \n",
      " 1   Severity    499864 non-null  int64  \n",
      " 2   Start_Time  499864 non-null  object \n",
      " 3   End_Time    499864 non-null  object \n",
      " 4   Start_Lat   499864 non-null  float64\n",
      " 5   Start_Lng   499864 non-null  float64\n",
      " 6   City        499864 non-null  object \n",
      " 7   County      499864 non-null  object \n",
      " 8   State       499864 non-null  object \n",
      "dtypes: float64(2), int64(1), object(6)\n",
      "memory usage: 38.1+ MB\n"
     ]
    }
   ],
   "source": [
    "accidents.info()"
   ]
  },
  {
   "cell_type": "code",
   "execution_count": 19,
   "id": "f783625e-e62b-4749-b5fe-7943bf9be97c",
   "metadata": {},
   "outputs": [],
   "source": [
    "# City, COuntry en State zijn ook string type kolommen\n",
    "accidents[['City', 'County', 'State']] = accidents[['City', 'County', 'State']].astype('string')\n",
    "\n",
    "# Om datatypes te veranderen, moeten de nanoseconden in deze kolommen verwijderd worden\n",
    "accidents['Start_Time'] = accidents['Start_Time'].str.extract(r'^(.{19})')[0]\n",
    "accidents['End_Time'] = accidents['End_Time'].str.extract(r'^(.{19})')[0]\n",
    "\n",
    "# Start_Time en End_Time moeten worden omgezet naar datetime\n",
    "accidents['Start_Time'] = pd.to_datetime(accidents['Start_Time'])\n",
    "accidents['End_Time'] = pd.to_datetime(accidents['End_Time'])"
   ]
  },
  {
   "cell_type": "markdown",
   "id": "537064c9-22fe-4467-977e-fce599f27fb5",
   "metadata": {},
   "source": [
    "### Weather"
   ]
  },
  {
   "cell_type": "code",
   "execution_count": 20,
   "id": "37440fd1-44a6-4148-9203-f112dc3c09cd",
   "metadata": {},
   "outputs": [
    {
     "name": "stdout",
     "output_type": "stream",
     "text": [
      "<class 'pandas.core.frame.DataFrame'>\n",
      "Index: 450642 entries, 0 to 499999\n",
      "Data columns (total 8 columns):\n",
      " #   Column             Non-Null Count   Dtype  \n",
      "---  ------             --------------   -----  \n",
      " 0   Weather_Timestamp  450642 non-null  object \n",
      " 1   Temperature(F)     450642 non-null  object \n",
      " 2   Humidity(%)        450642 non-null  float64\n",
      " 3   Pressure(in)       450642 non-null  float64\n",
      " 4   Wind_Speed(mph)    450642 non-null  float64\n",
      " 5   Precipitation(in)  450642 non-null  float64\n",
      " 6   Weather_Condition  450642 non-null  object \n",
      " 7   Sunrise_Sunset     450642 non-null  object \n",
      "dtypes: float64(4), object(4)\n",
      "memory usage: 30.9+ MB\n"
     ]
    }
   ],
   "source": [
    "weather.info()"
   ]
  },
  {
   "cell_type": "code",
   "execution_count": 21,
   "id": "765009b0-6a11-49f3-9511-4934818bfe95",
   "metadata": {},
   "outputs": [],
   "source": [
    "# Weather_Timestamp moet datetime worden\n",
    "weather['Weather_Timestamp'] = pd.to_datetime(weather['Weather_Timestamp'])\n",
    "\n",
    "# Temperature moet float worden\n",
    "weather['Temperature(F)'] = pd.to_numeric(weather['Temperature(F)'], errors='coerce')\n",
    "\n",
    "# Weather_Condition en Sunrise_Sunset zijn ook strings\n",
    "weather[['Sunrise_Sunset', 'Weather_Condition']] = weather[['Sunrise_Sunset', 'Weather_Condition']].astype('string')"
   ]
  },
  {
   "cell_type": "markdown",
   "id": "187c98d7-fab6-4793-8c10-b0b5afb3fcbb",
   "metadata": {},
   "source": [
    "### Roads"
   ]
  },
  {
   "cell_type": "code",
   "execution_count": 22,
   "id": "1e6edf3a-7ce5-4cb8-a22b-f0bb6cedc718",
   "metadata": {},
   "outputs": [
    {
     "name": "stdout",
     "output_type": "stream",
     "text": [
      "<class 'pandas.core.frame.DataFrame'>\n",
      "RangeIndex: 500000 entries, 0 to 499999\n",
      "Data columns (total 13 columns):\n",
      " #   Column           Non-Null Count   Dtype \n",
      "---  ------           --------------   ----- \n",
      " 0   ID               500000 non-null  object\n",
      " 1   Amenity          500000 non-null  bool  \n",
      " 2   Bump             500000 non-null  bool  \n",
      " 3   Crossing         500000 non-null  bool  \n",
      " 4   Give_Way         500000 non-null  bool  \n",
      " 5   Junction         500000 non-null  bool  \n",
      " 6   No_Exit          500000 non-null  bool  \n",
      " 7   Railway          500000 non-null  bool  \n",
      " 8   Roundabout       500000 non-null  bool  \n",
      " 9   Station          500000 non-null  bool  \n",
      " 10  Stop             500000 non-null  bool  \n",
      " 11  Traffic_Calming  500000 non-null  bool  \n",
      " 12  Traffic_Signal   500000 non-null  bool  \n",
      "dtypes: bool(12), object(1)\n",
      "memory usage: 9.5+ MB\n"
     ]
    }
   ],
   "source": [
    "roads.info()"
   ]
  },
  {
   "cell_type": "markdown",
   "id": "f708bdb6-b55f-4c6d-aa6c-065e0a30e961",
   "metadata": {},
   "source": [
    "Roads ziet er goed uit"
   ]
  },
  {
   "cell_type": "markdown",
   "id": "e39ac505-06f9-4bcd-a3f2-94f75e72c215",
   "metadata": {},
   "source": [
    "### Laatste check"
   ]
  },
  {
   "cell_type": "code",
   "execution_count": 23,
   "id": "de86e989-390f-429a-8ed7-63dca2c2f8c5",
   "metadata": {},
   "outputs": [
    {
     "name": "stdout",
     "output_type": "stream",
     "text": [
      "<class 'pandas.core.frame.DataFrame'>\n",
      "Index: 499864 entries, 0 to 499999\n",
      "Data columns (total 9 columns):\n",
      " #   Column      Non-Null Count   Dtype         \n",
      "---  ------      --------------   -----         \n",
      " 0   ID          499864 non-null  object        \n",
      " 1   Severity    499864 non-null  int64         \n",
      " 2   Start_Time  499864 non-null  datetime64[ns]\n",
      " 3   End_Time    499864 non-null  datetime64[ns]\n",
      " 4   Start_Lat   499864 non-null  float64       \n",
      " 5   Start_Lng   499864 non-null  float64       \n",
      " 6   City        499864 non-null  string        \n",
      " 7   County      499864 non-null  string        \n",
      " 8   State       499864 non-null  string        \n",
      "dtypes: datetime64[ns](2), float64(2), int64(1), object(1), string(3)\n",
      "memory usage: 38.1+ MB\n",
      "None\n",
      "----------------\n",
      "<class 'pandas.core.frame.DataFrame'>\n",
      "Index: 450642 entries, 0 to 499999\n",
      "Data columns (total 8 columns):\n",
      " #   Column             Non-Null Count   Dtype         \n",
      "---  ------             --------------   -----         \n",
      " 0   Weather_Timestamp  450642 non-null  datetime64[ns]\n",
      " 1   Temperature(F)     450642 non-null  float64       \n",
      " 2   Humidity(%)        450642 non-null  float64       \n",
      " 3   Pressure(in)       450642 non-null  float64       \n",
      " 4   Wind_Speed(mph)    450642 non-null  float64       \n",
      " 5   Precipitation(in)  450642 non-null  float64       \n",
      " 6   Weather_Condition  450642 non-null  string        \n",
      " 7   Sunrise_Sunset     450642 non-null  string        \n",
      "dtypes: datetime64[ns](1), float64(5), string(2)\n",
      "memory usage: 30.9 MB\n",
      "None\n",
      "----------------\n",
      "<class 'pandas.core.frame.DataFrame'>\n",
      "RangeIndex: 500000 entries, 0 to 499999\n",
      "Data columns (total 13 columns):\n",
      " #   Column           Non-Null Count   Dtype \n",
      "---  ------           --------------   ----- \n",
      " 0   ID               500000 non-null  object\n",
      " 1   Amenity          500000 non-null  bool  \n",
      " 2   Bump             500000 non-null  bool  \n",
      " 3   Crossing         500000 non-null  bool  \n",
      " 4   Give_Way         500000 non-null  bool  \n",
      " 5   Junction         500000 non-null  bool  \n",
      " 6   No_Exit          500000 non-null  bool  \n",
      " 7   Railway          500000 non-null  bool  \n",
      " 8   Roundabout       500000 non-null  bool  \n",
      " 9   Station          500000 non-null  bool  \n",
      " 10  Stop             500000 non-null  bool  \n",
      " 11  Traffic_Calming  500000 non-null  bool  \n",
      " 12  Traffic_Signal   500000 non-null  bool  \n",
      "dtypes: bool(12), object(1)\n",
      "memory usage: 9.5+ MB\n",
      "None\n"
     ]
    }
   ],
   "source": [
    "print(accidents.info())\n",
    "print(\"----------------\")\n",
    "print(weather.info())\n",
    "print(\"----------------\")\n",
    "print(roads.info())"
   ]
  },
  {
   "cell_type": "code",
   "execution_count": null,
   "id": "1c206bec-e0f9-4976-be81-40c94a4a0904",
   "metadata": {},
   "outputs": [],
   "source": []
  }
 ],
 "metadata": {
  "kernelspec": {
   "display_name": "Python 3 (ipykernel)",
   "language": "python",
   "name": "python3"
  },
  "language_info": {
   "codemirror_mode": {
    "name": "ipython",
    "version": 3
   },
   "file_extension": ".py",
   "mimetype": "text/x-python",
   "name": "python",
   "nbconvert_exporter": "python",
   "pygments_lexer": "ipython3",
   "version": "3.12.6"
  }
 },
 "nbformat": 4,
 "nbformat_minor": 5
}
