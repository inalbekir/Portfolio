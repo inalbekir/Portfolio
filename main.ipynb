{
 "cells": [
  {
   "cell_type": "markdown",
   "id": "3f942a0a-3a93-49da-b9db-d89220f8ddec",
   "metadata": {},
   "source": [
    "# Verkeersdata Analyse Porfolio"
   ]
  },
  {
   "cell_type": "code",
   "execution_count": 1,
   "id": "cd7afc00-9954-4aa7-908a-a35fad66273c",
   "metadata": {},
   "outputs": [],
   "source": [
    "# Libraries inladen\n",
    "import pandas as pd"
   ]
  },
  {
   "cell_type": "code",
   "execution_count": 2,
   "id": "4f66c7d2-3d44-4f69-9468-5a5a792d55c2",
   "metadata": {},
   "outputs": [],
   "source": [
    "# Datasets inladen\n",
    "accidents = pd.read_csv(\"datasets/accident_data.csv\")\n",
    "roads = pd.read_csv(\"datasets/road_data.csv\")\n",
    "weather = pd.read_csv(\"datasets/weather_data.csv\")"
   ]
  },
  {
   "cell_type": "markdown",
   "id": "f80fcaf3-4680-4108-930e-aea3ec873500",
   "metadata": {},
   "source": [
    "### Onvolledige data verwijderen of aanvullen"
   ]
  },
  {
   "cell_type": "code",
   "execution_count": 3,
   "id": "fa5c2c86-3b2f-44ef-80ac-9563276c8251",
   "metadata": {},
   "outputs": [
    {
     "name": "stdout",
     "output_type": "stream",
     "text": [
      "\n",
      " Missende waarden in: Accident Data\n",
      "ID               0.0000\n",
      "Source           0.0000\n",
      "Severity         0.0000\n",
      "Start_Time       0.0000\n",
      "End_Time         0.0000\n",
      "Start_Lat        0.0000\n",
      "Start_Lng        0.0000\n",
      "End_Lat         44.0754\n",
      "End_Lng         44.0754\n",
      "Distance(mi)     0.0000\n",
      "Description      0.0002\n",
      "City             0.0038\n",
      "County           0.0000\n",
      "State            0.0000\n",
      "Zipcode          0.0232\n",
      "dtype: float64\n",
      "\n",
      " Missende waarden in: Weather Data\n",
      "Start_Time            0.0000\n",
      "Weather_Timestamp     1.5348\n",
      "Temperature(F)        2.0932\n",
      "Wind_Chill(F)        25.8034\n",
      "Humidity(%)           2.2260\n",
      "Pressure(in)          1.7856\n",
      "Visibility(mi)        2.2582\n",
      "Wind_Direction        2.2394\n",
      "Wind_Speed(mph)       7.3974\n",
      "Precipitation(in)    28.5232\n",
      "Weather_Condition     2.2202\n",
      "Sunrise_Sunset        0.2966\n",
      "dtype: float64\n",
      "\n",
      " Missende waarden in: Road Data\n",
      "ID                 0.0\n",
      "Amenity            0.0\n",
      "Bump               0.0\n",
      "Crossing           0.0\n",
      "Give_Way           0.0\n",
      "Junction           0.0\n",
      "No_Exit            0.0\n",
      "Railway            0.0\n",
      "Roundabout         0.0\n",
      "Station            0.0\n",
      "Stop               0.0\n",
      "Traffic_Calming    0.0\n",
      "Traffic_Signal     0.0\n",
      "dtype: float64\n"
     ]
    }
   ],
   "source": [
    "def missende_waardes(df, name):\n",
    "    print(f\"\\n Missende waarden in: {name}\")\n",
    "    print((df.isnull().sum() / len(df) * 100))\n",
    "\n",
    "missende_waardes(accidents, \"Accident Data\")\n",
    "missende_waardes(weather, \"Weather Data\")\n",
    "missende_waardes(roads, \"Road Data\")"
   ]
  },
  {
   "cell_type": "markdown",
   "id": "48ba5590-988c-4b33-9aa0-9c4e698a36a6",
   "metadata": {},
   "source": [
    "#### Accidents Data"
   ]
  },
  {
   "cell_type": "markdown",
   "id": "7ae3e6f7-0814-48b2-b214-bd195ccca0a4",
   "metadata": {},
   "source": [
    "In de kolommen End_lat en End_lng zitten ook heel veel missende waardes. Aangezien ik al de coordinaten van de incident locaties heb (Start_Lat - Start_Lng) heb ik deze twee kolommen niet nodig."
   ]
  },
  {
   "cell_type": "code",
   "execution_count": 4,
   "id": "e26f5a0d-63e1-4074-ac57-e1ee351a5f84",
   "metadata": {},
   "outputs": [],
   "source": [
    "# End_Lat en End_Lng kolommen verwijderen met  veel missende waardes (indien niet nodig)\n",
    "accidents.drop(['End_Lat', 'End_Lng'], axis=1, inplace=True)"
   ]
  },
  {
   "cell_type": "markdown",
   "id": "b1f0383c-3aa4-4f96-ac60-c812d6d03df6",
   "metadata": {},
   "source": [
    "In de description en city kolommen zitten heel weininig nan waardes, hierbij kunnen we heel makkelijk deze rijen veranderen, want het zal geen effect hebben op de analyse."
   ]
  },
  {
   "cell_type": "code",
   "execution_count": 5,
   "id": "2e3e9517-775d-4c9e-b454-3800ccd2682a",
   "metadata": {},
   "outputs": [],
   "source": [
    "# Rijen met nan waardes verwijderen\n",
    "accidents.dropna(subset=[\"Description\", \"City\", \"Zipcode\"], inplace=True)"
   ]
  },
  {
   "cell_type": "markdown",
   "id": "55fded00-63b0-48a9-894c-0d125ffb045f",
   "metadata": {},
   "source": [
    "#### Weather Data"
   ]
  },
  {
   "cell_type": "markdown",
   "id": "b1ab756c-1ea0-4ea1-b166-d34ecfec3468",
   "metadata": {},
   "source": [
    "In de kolom 'Precipitation(in)' zitten veel missende waarden. Aangezien waarschijnlijk in de meeste geval niet regenen of sneeuwen betekent dat er geen regen of sneeuw is gevallen, besloot ik om de missende waarden met '0.0' te invullen. Zo heb ik geen dataverlies en kan werken met deze kolom."
   ]
  },
  {
   "cell_type": "code",
   "execution_count": 6,
   "id": "156f3aa4-a85e-4b92-ac83-33142172d6c7",
   "metadata": {},
   "outputs": [],
   "source": [
    "# None waardes veranderen met 0\n",
    "weather.fillna({\"Precipitation(in)\": 0.0}, inplace=True)"
   ]
  },
  {
   "cell_type": "markdown",
   "id": "71aa8dec-ec64-4972-8a76-4ff52681f016",
   "metadata": {},
   "source": [
    "Als je kijkt naar de Wind_Chill(F) kolom, zie je dat het meestaal heel dichtbij of soms helemaal hetzelfde is met de Temperature(F) kolom. Dit betekent dat de NaN waardes gewoon met de waardes van Temperature(F) opgevuld kan worden. Dit geldt ook voor de kolom Temperature(F)."
   ]
  },
  {
   "cell_type": "code",
   "execution_count": 14,
   "id": "95308d1b-26f0-44d3-a3ed-62b8296bf11d",
   "metadata": {},
   "outputs": [
    {
     "data": {
      "text/html": [
       "<div>\n",
       "<style scoped>\n",
       "    .dataframe tbody tr th:only-of-type {\n",
       "        vertical-align: middle;\n",
       "    }\n",
       "\n",
       "    .dataframe tbody tr th {\n",
       "        vertical-align: top;\n",
       "    }\n",
       "\n",
       "    .dataframe thead th {\n",
       "        text-align: right;\n",
       "    }\n",
       "</style>\n",
       "<table border=\"1\" class=\"dataframe\">\n",
       "  <thead>\n",
       "    <tr style=\"text-align: right;\">\n",
       "      <th></th>\n",
       "      <th>Wind_Chill(F)</th>\n",
       "      <th>Temperature(F)</th>\n",
       "    </tr>\n",
       "  </thead>\n",
       "  <tbody>\n",
       "    <tr>\n",
       "      <th>0</th>\n",
       "      <td>77.0</td>\n",
       "      <td>77.0</td>\n",
       "    </tr>\n",
       "    <tr>\n",
       "      <th>1</th>\n",
       "      <td>43.0</td>\n",
       "      <td>45.0</td>\n",
       "    </tr>\n",
       "    <tr>\n",
       "      <th>2</th>\n",
       "      <td>68.0</td>\n",
       "      <td>68.0</td>\n",
       "    </tr>\n",
       "    <tr>\n",
       "      <th>3</th>\n",
       "      <td>15.0</td>\n",
       "      <td>27.0</td>\n",
       "    </tr>\n",
       "    <tr>\n",
       "      <th>4</th>\n",
       "      <td>42.0</td>\n",
       "      <td>42.0</td>\n",
       "    </tr>\n",
       "  </tbody>\n",
       "</table>\n",
       "</div>"
      ],
      "text/plain": [
       "  Wind_Chill(F) Temperature(F)\n",
       "0          77.0           77.0\n",
       "1          43.0           45.0\n",
       "2          68.0           68.0\n",
       "3          15.0           27.0\n",
       "4          42.0           42.0"
      ]
     },
     "execution_count": 14,
     "metadata": {},
     "output_type": "execute_result"
    }
   ],
   "source": [
    "weather[[\"Wind_Chill(F)\",\"Temperature(F)\"]].head()"
   ]
  },
  {
   "cell_type": "code",
   "execution_count": 7,
   "id": "070c5330-2cec-4349-9439-317515e6949f",
   "metadata": {},
   "outputs": [],
   "source": [
    "# Opvullen met dichtstbijzijnde waardes\n",
    "weather.fillna({\"Wind_Chill(F)\": \"Temperature(F)\"}, inplace=True)\n",
    "weather.fillna({\"Temperature(F)\": \"Wind_Chill(F)\"}, inplace=True)"
   ]
  },
  {
   "cell_type": "markdown",
   "id": "3766687c-864b-4b89-8a8c-940728317140",
   "metadata": {},
   "source": [
    "Omdat de resterende kolommen heel weinig NaN waardes bevatten, kunnen de rijen met de NaN values gelijk werwijderd kan worden. Dit heeft geen effect op de analyse en de data begrijpelijker."
   ]
  },
  {
   "cell_type": "code",
   "execution_count": 12,
   "id": "9b995603-0752-4c51-ae6d-c8925cc45d7a",
   "metadata": {},
   "outputs": [],
   "source": [
    "# De rijen met weinig missende waardes verwijderen\n",
    "weather.dropna(subset=[\"Humidity(%)\", \"Pressure(in)\" \n",
    "                       ,\"Visibility(mi)\", \"Wind_Direction\", \n",
    "                       \"Wind_Speed(mph)\", \"Weather_Condition\", \"Sunrise_Sunset\"], \n",
    "               inplace=True)"
   ]
  },
  {
   "cell_type": "markdown",
   "id": "4749afdf-67b7-4f1e-8dda-58a0586e030d",
   "metadata": {},
   "source": [
    "#### Roads Data"
   ]
  },
  {
   "cell_type": "code",
   "execution_count": 19,
   "id": "cdca9c10-a840-4e8b-8946-f38745fcda1d",
   "metadata": {},
   "outputs": [
    {
     "data": {
      "text/plain": [
       "Start_Time           0\n",
       "Weather_Timestamp    0\n",
       "Temperature(F)       0\n",
       "Wind_Chill(F)        0\n",
       "Humidity(%)          0\n",
       "Pressure(in)         0\n",
       "Visibility(mi)       0\n",
       "Wind_Direction       0\n",
       "Wind_Speed(mph)      0\n",
       "Precipitation(in)    0\n",
       "Weather_Condition    0\n",
       "Sunrise_Sunset       0\n",
       "dtype: int64"
      ]
     },
     "execution_count": 19,
     "metadata": {},
     "output_type": "execute_result"
    }
   ],
   "source": [
    "weather.isnull().sum()"
   ]
  },
  {
   "cell_type": "code",
   "execution_count": null,
   "id": "91e90af6-da4f-4f88-94a9-f9e045f0ce81",
   "metadata": {},
   "outputs": [],
   "source": []
  }
 ],
 "metadata": {
  "kernelspec": {
   "display_name": "Python 3 (ipykernel)",
   "language": "python",
   "name": "python3"
  },
  "language_info": {
   "codemirror_mode": {
    "name": "ipython",
    "version": 3
   },
   "file_extension": ".py",
   "mimetype": "text/x-python",
   "name": "python",
   "nbconvert_exporter": "python",
   "pygments_lexer": "ipython3",
   "version": "3.12.6"
  }
 },
 "nbformat": 4,
 "nbformat_minor": 5
}
